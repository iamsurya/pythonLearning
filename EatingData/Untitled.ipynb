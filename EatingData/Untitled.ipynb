{
 "cells": [
  {
   "cell_type": "code",
   "execution_count": 3,
   "metadata": {
    "collapsed": true
   },
   "outputs": [],
   "source": [
    "import numpy as np"
   ]
  },
  {
   "cell_type": "code",
   "execution_count": 9,
   "metadata": {
    "scrolled": true
   },
   "outputs": [
    {
     "name": "stdout",
     "output_type": "stream",
     "text": [
      "(-0.0235789455473423,)\n",
      "(0.1017865240573883,)\n",
      "(-0.004472389351576567,)\n",
      "(-2.79779052734375,)\n",
      "(15.20489501953125,)\n",
      "(-11.091537475585938,)\n"
     ]
    }
   ],
   "source": [
    "from struct import *\n",
    "with open(\"P2001.shm\", \"rb\") as binary_file:\n",
    "    couple_bytes = unpack('f', binary_file.read(4))\n",
    "    print(couple_bytes)\n",
    "    couple_bytes = unpack('f', binary_file.read(4))\n",
    "    print(couple_bytes)\n",
    "    couple_bytes = unpack('f', binary_file.read(4))\n",
    "    print(couple_bytes)\n",
    "    couple_bytes = unpack('f', binary_file.read(4))\n",
    "    print(couple_bytes)\n",
    "    couple_bytes = unpack('f', binary_file.read(4))\n",
    "    print(couple_bytes)\n",
    "    couple_bytes = unpack('f', binary_file.read(4))\n",
    "    print(couple_bytes)"
   ]
  },
  {
   "cell_type": "code",
   "execution_count": 13,
   "metadata": {},
   "outputs": [
    {
     "name": "stdout",
     "output_type": "stream",
     "text": [
      "[ (-0.02357895,  0.10178652, -0.00447239,  -2.79779053,  15.20489502, -11.09153748)\n",
      " (-0.06473824,  0.07129172, -0.02011039,   4.16021729,  16.24249268, -12.37327576)\n",
      " (-0.01883226,  0.11801311,  0.01821019,  16.61138916,  21.30841064,  -7.4294281 )\n",
      " ...,\n",
      " (-0.01042557, -0.04681389, -0.00414261,   2.87727356,   7.59997559,  -5.50823975)\n",
      " (-0.04157687,  0.02621552,  0.07499078,   3.48762512,   2.16784668,  -3.18890381)\n",
      " (-0.03510994, -0.00561387,  0.03939221,  -0.54064941,   1.86238098,  -2.27319336)]\n"
     ]
    }
   ],
   "source": [
    "dt = np.dtype([('Ax','<f4'),('Ay','<f4'), ('Az','<f4'), ('Yaw','<f4'), ('Pitch','<f4'), ('Roll','<f4')])\n",
    "x = np.zeros((1,), dtype = dt)\n",
    "#dt = np.dtype(\"(1,6)f4\")\n",
    "z = np.fromfile(\"P2001.shm\", dtype=dt)\n",
    "print(z)"
   ]
  },
  {
   "cell_type": "code",
   "execution_count": 2,
   "metadata": {},
   "outputs": [
    {
     "name": "stdout",
     "output_type": "stream",
     "text": [
      "[[[ -2.35789455e-02   1.01786524e-01  -4.47238935e-03  -2.79779053e+00\n",
      "     1.52048950e+01  -1.10915375e+01]]\n",
      "\n",
      " [[ -6.47382438e-02   7.12917224e-02  -2.01103948e-02   4.16021729e+00\n",
      "     1.62424927e+01  -1.23732758e+01]]\n",
      "\n",
      " [[ -1.88322552e-02   1.18013106e-01   1.82101857e-02   1.66113892e+01\n",
      "     2.13084106e+01  -7.42942810e+00]]\n",
      "\n",
      " ..., \n",
      " [[ -1.04255695e-02  -4.68138903e-02  -4.14260989e-03   2.87727356e+00\n",
      "     7.59997559e+00  -5.50823975e+00]]\n",
      "\n",
      " [[ -4.15768698e-02   2.62155216e-02   7.49907792e-02   3.48762512e+00\n",
      "     2.16784668e+00  -3.18890381e+00]]\n",
      "\n",
      " [[ -3.51099372e-02  -5.61387092e-03   3.93922143e-02  -5.40649414e-01\n",
      "     1.86238098e+00  -2.27319336e+00]]]\n"
     ]
    }
   ],
   "source": [
    "import numpy as np\n",
    "#dt = np.dtype([('Ax','<f4'),('Ay','<f4'), ('Az','<f4'), ('Yaw','<f4'), ('Pitch','<f4'), ('Roll','<f4')])\n",
    "#x = np.zeros((1,), dtype = dt)\n",
    "dt = np.dtype(\"(1,6)f4\")\n",
    "z = np.fromfile(\"P2001.shm\", dtype=dt)\n",
    "print(z)"
   ]
  },
  {
   "cell_type": "code",
   "execution_count": 53,
   "metadata": {},
   "outputs": [
    {
     "name": "stdout",
     "output_type": "stream",
     "text": [
      "[-0.02357895  0.10178652 -0.00447239 ..., -0.54064941  1.86238098\n",
      " -2.27319336]\n",
      "[[ -2.35789455e-02   1.01786524e-01  -4.47238935e-03  -2.79779053e+00\n",
      "    1.52048950e+01  -1.10915375e+01]\n",
      " [ -6.47382438e-02   7.12917224e-02  -2.01103948e-02   4.16021729e+00\n",
      "    1.62424927e+01  -1.23732758e+01]\n",
      " [ -1.88322552e-02   1.18013106e-01   1.82101857e-02   1.66113892e+01\n",
      "    2.13084106e+01  -7.42942810e+00]\n",
      " ..., \n",
      " [ -1.04255695e-02  -4.68138903e-02  -4.14260989e-03   2.87727356e+00\n",
      "    7.59997559e+00  -5.50823975e+00]\n",
      " [ -4.15768698e-02   2.62155216e-02   7.49907792e-02   3.48762512e+00\n",
      "    2.16784668e+00  -3.18890381e+00]\n",
      " [ -3.51099372e-02  -5.61387092e-03   3.93922143e-02  -5.40649414e-01\n",
      "    1.86238098e+00  -2.27319336e+00]]\n",
      "21.3084\n",
      "[[ -2.35789455e-02   1.01786524e-01  -4.47238935e-03 ...,  -3.17382812e-02\n",
      "   -9.83298477e-03  -8.78035091e-03]\n",
      " [  1.00393267e-02  -1.58706665e-01   4.63867188e-02 ...,  -1.73801687e-02\n",
      "   -4.57784012e-02   3.82659912e-01]\n",
      " [  1.42288208e+00   1.62092590e+00   1.52197620e-02 ...,   3.70706177e+00\n",
      "   -5.48078918e+00  -2.16542053e+00]\n",
      " [ -3.66197270e-03   8.52070004e-03   1.05192391e-02 ...,  -1.16485596e-01\n",
      "    2.23511737e-02  -5.70466071e-02]\n",
      " [  1.78352501e-02  -1.49320984e+00  -5.56610107e-01 ...,  -1.60609744e-02\n",
      "    3.11342464e-03  -2.25360107e+00]\n",
      " [ -1.50325012e+00   1.60374451e+00   7.00400397e-03 ...,  -5.40649414e-01\n",
      "    1.86238098e+00  -2.27319336e+00]]\n",
      "-0.55661\n"
     ]
    }
   ],
   "source": [
    "import numpy as np\n",
    "dt = np.dtype(\"f4\")\n",
    "z = np.fromfile(\"P2001.shm\", dtype=dt)\n",
    "print(z)\n",
    "z2 = z.reshape(int(len(z)/6),6)\n",
    "print(z2)\n",
    "print(z2[2,4]) # Row 2 Var 4\n",
    "z3 = z.reshape(6, int(len(z)/6)) # Can't do this as it takes Len values sequentially.\n",
    "print(z3)\n",
    "print(z3[4,2]) # Var 2 Column 4"
   ]
  },
  {
   "cell_type": "code",
   "execution_count": 43,
   "metadata": {},
   "outputs": [
    {
     "ename": "IndexError",
     "evalue": "too many indices for array",
     "output_type": "error",
     "traceback": [
      "\u001b[1;31m---------------------------------------------------------------------------\u001b[0m",
      "\u001b[1;31mIndexError\u001b[0m                                Traceback (most recent call last)",
      "\u001b[1;32m<ipython-input-43-9d9ceb5a8311>\u001b[0m in \u001b[0;36m<module>\u001b[1;34m()\u001b[0m\n\u001b[1;32m----> 1\u001b[1;33m \u001b[0mAx\u001b[0m \u001b[1;33m=\u001b[0m \u001b[0mz\u001b[0m\u001b[1;33m[\u001b[0m\u001b[1;33m:\u001b[0m\u001b[1;33m,\u001b[0m\u001b[1;36m1\u001b[0m\u001b[1;33m]\u001b[0m\u001b[1;33m\u001b[0m\u001b[0m\n\u001b[0m\u001b[0;32m      2\u001b[0m \u001b[0mprint\u001b[0m\u001b[1;33m(\u001b[0m\u001b[0mlen\u001b[0m\u001b[1;33m(\u001b[0m\u001b[0ma\u001b[0m\u001b[1;33m)\u001b[0m\u001b[1;33m)\u001b[0m\u001b[1;33m\u001b[0m\u001b[0m\n\u001b[0;32m      3\u001b[0m \u001b[0mprint\u001b[0m\u001b[1;33m(\u001b[0m\u001b[0ma\u001b[0m\u001b[1;33m[\u001b[0m\u001b[1;36m2\u001b[0m\u001b[1;33m]\u001b[0m\u001b[1;33m)\u001b[0m\u001b[1;33m\u001b[0m\u001b[0m\n",
      "\u001b[1;31mIndexError\u001b[0m: too many indices for array"
     ]
    }
   ],
   "source": [
    "Ax = z[:,1]\n",
    "print(len(a))\n",
    "print(a[2])"
   ]
  },
  {
   "cell_type": "code",
   "execution_count": 37,
   "metadata": {},
   "outputs": [
    {
     "name": "stdout",
     "output_type": "stream",
     "text": [
      "730802\n",
      "[ 0.10178652  0.07129172  0.11801311 ..., -0.04681389  0.02621552\n",
      " -0.00561387]\n"
     ]
    }
   ],
   "source": [
    "z2 = z.reshape(int(len(z)/6),6)\n",
    "a = z2[:,1]\n",
    "print(len(a))\n",
    "print(a)"
   ]
  }
 ],
 "metadata": {
  "kernelspec": {
   "display_name": "Python 3",
   "language": "python",
   "name": "python3"
  },
  "language_info": {
   "codemirror_mode": {
    "name": "ipython",
    "version": 3
   },
   "file_extension": ".py",
   "mimetype": "text/x-python",
   "name": "python",
   "nbconvert_exporter": "python",
   "pygments_lexer": "ipython3",
   "version": "3.6.3"
  }
 },
 "nbformat": 4,
 "nbformat_minor": 2
}
