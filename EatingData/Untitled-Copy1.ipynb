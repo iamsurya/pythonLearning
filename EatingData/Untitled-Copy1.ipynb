{
 "cells": [
  {
   "cell_type": "code",
   "execution_count": 29,
   "metadata": {
    "collapsed": true
   },
   "outputs": [],
   "source": [
    "import numpy as np"
   ]
  },
  {
   "cell_type": "code",
   "execution_count": 40,
   "metadata": {
    "scrolled": true
   },
   "outputs": [
    {
     "name": "stdout",
     "output_type": "stream",
     "text": [
      "(-0.0235789455473423,)\n",
      "(0.1017865240573883,)\n",
      "(-0.004472389351576567,)\n",
      "(-2.79779052734375,)\n",
      "(15.20489501953125,)\n",
      "(-11.091537475585938,)\n"
     ]
    }
   ],
   "source": [
    "from struct import *\n",
    "with open(\"P2001.shm\", \"rb\") as binary_file:\n",
    "    couple_bytes = unpack('f', binary_file.read(4))\n",
    "    print(couple_bytes)\n",
    "    couple_bytes = unpack('f', binary_file.read(4))\n",
    "    print(couple_bytes)\n",
    "    couple_bytes = unpack('f', binary_file.read(4))\n",
    "    print(couple_bytes)\n",
    "    couple_bytes = unpack('f', binary_file.read(4))\n",
    "    print(couple_bytes)\n",
    "    couple_bytes = unpack('f', binary_file.read(4))\n",
    "    print(couple_bytes)\n",
    "    couple_bytes = unpack('f', binary_file.read(4))\n",
    "    print(couple_bytes)"
   ]
  },
  {
   "cell_type": "code",
   "execution_count": 48,
   "metadata": {},
   "outputs": [
    {
     "name": "stdout",
     "output_type": "stream",
     "text": [
      "[  5.98768111e-11  -1.90586049e+01  -1.14456026e+06 ...,  -5.07273919e-21\n",
      "  -5.03659318e-05  -4.37109470e+00]\n"
     ]
    }
   ],
   "source": [
    "dt = np.dtype([('Ax','<f4'),('Ay','<f4'), ('Az','<f4'), ('Yaw','<f4'), ('Pitch','<f4'), ('Roll','<f4')])\n",
    "x = np.zeros((1,), dtype = dt)\n",
    "z = np.fromfile(\"P2001.shm\", dtype=float)\n",
    "print(z)"
   ]
  }
 ],
 "metadata": {
  "kernelspec": {
   "display_name": "Python 3",
   "language": "python",
   "name": "python3"
  },
  "language_info": {
   "codemirror_mode": {
    "name": "ipython",
    "version": 3
   },
   "file_extension": ".py",
   "mimetype": "text/x-python",
   "name": "python",
   "nbconvert_exporter": "python",
   "pygments_lexer": "ipython3",
   "version": "3.6.3"
  }
 },
 "nbformat": 4,
 "nbformat_minor": 2
}
